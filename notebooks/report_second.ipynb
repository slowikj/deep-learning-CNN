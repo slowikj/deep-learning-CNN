{
 "cells": [
  {
   "cell_type": "markdown",
   "metadata": {
    "colab_type": "text",
    "id": "AdcgkQI2aG-e"
   },
   "source": [
    "# Klasyfikacja zbioru *CIFAR-10* przy pomocy konwolucyjnych sieci neuronowych\n",
    "## Autor: Jadwiga Słowik"
   ]
  },
  {
   "cell_type": "code",
   "execution_count": 0,
   "metadata": {
    "colab": {
     "base_uri": "https://localhost:8080/",
     "height": 34
    },
    "colab_type": "code",
    "executionInfo": {
     "elapsed": 1605,
     "status": "ok",
     "timestamp": 1555329599204,
     "user": {
      "displayName": "Jadwiga Słowik",
      "photoUrl": "",
      "userId": "15762734195535627025"
     },
     "user_tz": -120
    },
    "id": "4v2Hux4CZdeP",
    "outputId": "48ca4cbd-9c15-4db8-cb76-9663b7e8309a"
   },
   "outputs": [
    {
     "name": "stderr",
     "output_type": "stream",
     "text": [
      "Using TensorFlow backend.\n"
     ]
    }
   ],
   "source": [
    "from matplotlib import pyplot\n",
    "from scipy.misc import toimage\n",
    "from keras.models import Sequential\n",
    "from keras.layers import Dense, Dropout, Activation, Flatten\n",
    "from keras.layers import Conv2D, MaxPooling2D\n",
    "import keras\n",
    "import tensorflow as tf\n",
    "from keras import regularizers\n",
    "from keras.preprocessing.image import ImageDataGenerator, array_to_img, img_to_array, load_img\n",
    "from keras.layers.normalization import BatchNormalization"
   ]
  },
  {
   "cell_type": "markdown",
   "metadata": {
    "colab_type": "text",
    "id": "0f-EkaTcZurV"
   },
   "source": [
    "# Wczytanie zbioru danych (uczący + testowy)"
   ]
  },
  {
   "cell_type": "code",
   "execution_count": 0,
   "metadata": {
    "colab": {
     "base_uri": "https://localhost:8080/",
     "height": 52
    },
    "colab_type": "code",
    "executionInfo": {
     "elapsed": 21635,
     "status": "ok",
     "timestamp": 1555329620809,
     "user": {
      "displayName": "Jadwiga Słowik",
      "photoUrl": "",
      "userId": "15762734195535627025"
     },
     "user_tz": -120
    },
    "id": "OLLb7uyIZgfc",
    "outputId": "1a4e8d2f-de3a-4b0f-ae1c-20a1969273bc"
   },
   "outputs": [
    {
     "name": "stdout",
     "output_type": "stream",
     "text": [
      "Downloading data from https://www.cs.toronto.edu/~kriz/cifar-10-python.tar.gz\n",
      "170500096/170498071 [==============================] - 18s 0us/step\n"
     ]
    }
   ],
   "source": [
    "from keras.datasets import cifar10\n",
    "(X_train, y_train), (X_test, y_test) = cifar10.load_data()\n",
    "num_classes=10"
   ]
  },
  {
   "cell_type": "markdown",
   "metadata": {
    "colab_type": "text",
    "id": "70UJ2jA9Z5RN"
   },
   "source": [
    "# Podział zbioru uczącego na treningowy i walidacyjny (w stosunku 9:1)"
   ]
  },
  {
   "cell_type": "code",
   "execution_count": 0,
   "metadata": {
    "colab": {},
    "colab_type": "code",
    "id": "eYPypdewZp91"
   },
   "outputs": [],
   "source": [
    "y_train = keras.utils.to_categorical(y_train, num_classes)\n",
    "y_test = keras.utils.to_categorical(y_test, num_classes)\n",
    "X_train = X_train.astype('float32')\n",
    "X_test = X_test.astype('float32')\n",
    "X_train /= 255\n",
    "X_test /= 255\n",
    "\n",
    "X_val = X_train[0:5000,:]\n",
    "y_val = y_train[0:5000,:]\n",
    "X_train = X_train[5000:50000,:]\n",
    "y_train = y_train[5000:50000,:]"
   ]
  },
  {
   "cell_type": "markdown",
   "metadata": {
    "colab_type": "text",
    "id": "8B9ub-J9Ijza"
   },
   "source": [
    "# Zapisywanie wyników"
   ]
  },
  {
   "cell_type": "code",
   "execution_count": 0,
   "metadata": {
    "colab": {
     "base_uri": "https://localhost:8080/",
     "height": 124
    },
    "colab_type": "code",
    "executionInfo": {
     "elapsed": 38622,
     "status": "ok",
     "timestamp": 1555329641694,
     "user": {
      "displayName": "Jadwiga Słowik",
      "photoUrl": "",
      "userId": "15762734195535627025"
     },
     "user_tz": -120
    },
    "id": "8WIkuIzIIlo0",
    "outputId": "3b3e725b-99da-480b-8a16-ade3e6767b73",
    "scrolled": true
   },
   "outputs": [
    {
     "name": "stdout",
     "output_type": "stream",
     "text": [
      "Go to this URL in a browser: https://accounts.google.com/o/oauth2/auth?client_id=947318989803-6bn6qk8qdgf4n4g3pfee6491hc0brc4i.apps.googleusercontent.com&redirect_uri=urn%3Aietf%3Awg%3Aoauth%3A2.0%3Aoob&scope=email%20https%3A%2F%2Fwww.googleapis.com%2Fauth%2Fdocs.test%20https%3A%2F%2Fwww.googleapis.com%2Fauth%2Fdrive%20https%3A%2F%2Fwww.googleapis.com%2Fauth%2Fdrive.photos.readonly%20https%3A%2F%2Fwww.googleapis.com%2Fauth%2Fpeopleapi.readonly&response_type=code\n",
      "\n",
      "Enter your authorization code:\n",
      "··········\n",
      "Mounted at /content/gdrive\n"
     ]
    }
   ],
   "source": [
    "from google.colab import drive\n",
    "drive.mount('/content/gdrive')"
   ]
  },
  {
   "cell_type": "code",
   "execution_count": 0,
   "metadata": {
    "colab": {},
    "colab_type": "code",
    "id": "vpp5OPIDImj8"
   },
   "outputs": [],
   "source": [
    "import json\n",
    "def save_file(file_name, content):\n",
    "  with open(\"/content/gdrive/My Drive/{0}\".format(file_name), \"w\") as f:\n",
    "    f.write(json.dumps(content))"
   ]
  },
  {
   "cell_type": "markdown",
   "metadata": {
    "colab_type": "text",
    "id": "XWoUzYd1aoMm"
   },
   "source": [
    "# Budowanie modelu i testowanie"
   ]
  },
  {
   "cell_type": "code",
   "execution_count": 0,
   "metadata": {
    "colab": {},
    "colab_type": "code",
    "id": "sxwCFpUXa8fu"
   },
   "outputs": [],
   "source": [
    "def create_base_model(\n",
    "    input_shape,\n",
    "    number_of_classes,\n",
    "    conv_num,\n",
    "    pooling_iter_num,\n",
    "    fc_num,\n",
    "    optimizer,\n",
    "    dropout_fc,\n",
    "    dropout_conv,\n",
    "    batch_normalization):\n",
    "  model = Sequential()\n",
    "  model.add(Conv2D(128, (3, 3), padding=\"same\", input_shape=input_shape))\n",
    "  model.add(Activation(\"relu\"))\n",
    "  \n",
    "  for j in range(pooling_iter_num):\n",
    "    for i in range(conv_num):\n",
    "      model.add(Conv2D(128, (2, 2), padding=\"same\", activation=\"relu\"))\n",
    "      if dropout_conv != None:\n",
    "        model.add(Dropout(dropout_conv))\n",
    "      if batch_normalization != None:\n",
    "        model.add(BatchNormalization())\n",
    "\n",
    "    model.add(MaxPooling2D(pool_size=(2,2), strides=2))\n",
    "  \n",
    "  model.add(Flatten())\n",
    "  for i in range(fc_num):\n",
    "    model.add(Dense(128, activation=\"relu\"))\n",
    "    if dropout_fc != None:\n",
    "      model.add(Dropout(dropout_fc))\n",
    "    if batch_normalization != None:\n",
    "      model.add(BatchNormalization())\n",
    "  \n",
    "  model.add(Dense(number_of_classes, activation=\"softmax\"))\n",
    "  \n",
    "  model.compile(\n",
    "      loss=\"categorical_crossentropy\",\n",
    "      optimizer=optimizer,\n",
    "      metrics=[\"accuracy\"])\n",
    "  \n",
    "  return model  "
   ]
  },
  {
   "cell_type": "code",
   "execution_count": 0,
   "metadata": {
    "colab": {},
    "colab_type": "code",
    "id": "SJOE1dPImTX1"
   },
   "outputs": [],
   "source": [
    "def train_model(\n",
    "    conv_num,\n",
    "    fc_num,\n",
    "    optimizer,\n",
    "    epochs,\n",
    "    pooling_iter_num=1,\n",
    "    dropout_fc=None,\n",
    "    dropout_conv=None,\n",
    "    batch_normalization=None,\n",
    "    image_augmentation=False,\n",
    "    width_shift_range=0.0,\n",
    "    height_shift_range=0.0,\n",
    "    shear_range=0.0,\n",
    "    zoom_range=0.0,\n",
    "    horizontal_flip=False,\n",
    "    vertiacal_flip=False,\n",
    "    rotation_range=0,\n",
    "    brightness_range=None,\n",
    "    zca_whitening=False,\n",
    "    callbacks=None):\n",
    "  \n",
    "  model = create_base_model(\n",
    "      input_shape=X_train.shape[1:],\n",
    "      number_of_classes=10,\n",
    "      conv_num=conv_num,\n",
    "      fc_num=fc_num,\n",
    "      optimizer=optimizer,\n",
    "      dropout_fc=dropout_fc,\n",
    "      dropout_conv=dropout_conv,\n",
    "      batch_normalization=batch_normalization,\n",
    "      pooling_iter_num=pooling_iter_num)\n",
    "  \n",
    "  batch_size = 32\n",
    "  \n",
    "  if image_augmentation == True:\n",
    "    datagen = ImageDataGenerator(\n",
    "      width_shift_range=width_shift_range,\n",
    "      height_shift_range=height_shift_range,\n",
    "      shear_range=shear_range,\n",
    "      zoom_range=zoom_range,\n",
    "      horizontal_flip=horizontal_flip,\n",
    "      vertiacal_flip=vertiacal_flip,\n",
    "      rotation_range=rotation_range,\n",
    "      brightness_range=brightness_range,\n",
    "      zca_whitening=zca_whitening)\n",
    "    datagen.fit(X_train)\n",
    "    \n",
    "    return (model, model.fit_generator(\n",
    "        datagen.flow(X_train, y_train, batch_size=batch_size),\n",
    "        steps_per_epoch=(len(X_train) // batch_size),\n",
    "        epochs=epochs,\n",
    "        validation_data=(X_val, y_val),\n",
    "        callbacks=callbacks)\n",
    "    )\n",
    "  else:\n",
    "    return (model, model.fit(\n",
    "      X_train,\n",
    "      y_train,\n",
    "      batch_size=batch_size,\n",
    "      epochs=epochs,\n",
    "      validation_data=(X_val, y_val),\n",
    "      shuffle=True,\n",
    "      callbacks=callbacks))"
   ]
  },
  {
   "cell_type": "code",
   "execution_count": 0,
   "metadata": {
    "colab": {},
    "colab_type": "code",
    "id": "cttUJcjuEKnU"
   },
   "outputs": [],
   "source": [
    "def test(\n",
    "    file_name,\n",
    "    conv_num,\n",
    "    fc_num,\n",
    "    epochs,\n",
    "    pooling_iter_num=1,\n",
    "    dropout_fc=None,\n",
    "    dropout_conv=None,\n",
    "    batch_normalization=False,\n",
    "    image_augmentation=False,\n",
    "    width_shift_range=0.0,\n",
    "    height_shift_range=0.0,\n",
    "    shear_range=0.0,\n",
    "    zoom_range=0.0,\n",
    "    horizontal_flip=False,\n",
    "    vertiacal_flip=False,\n",
    "    rotation_range=0,\n",
    "    brightness_range=None,\n",
    "    zca_whitening=False,\n",
    "    callbacks=None):\n",
    "  \n",
    "  sgd = keras.optimizers.SGD(lr=0.01,\n",
    "                           decay=1e-6,\n",
    "                           momentum=0.9,\n",
    "                           nesterov=True)\n",
    "  \n",
    "  model, hist = train_model(\n",
    "      conv_num,\n",
    "      fc_num,\n",
    "      sgd,\n",
    "      epochs,\n",
    "      pooling_iter_num,\n",
    "      dropout_fc,\n",
    "      dropout_conv,\n",
    "      batch_normalization,\n",
    "      image_augmentation,\n",
    "      width_shift_range,\n",
    "      height_shift_range,\n",
    "      shear_range,\n",
    "      zoom_range,\n",
    "      horizontal_flip,\n",
    "      vertiacal_flip,\n",
    "      rotation_range,\n",
    "      brightness_range,\n",
    "      zca_whitening,\n",
    "      callbacks)\n",
    "  \n",
    "  if \"lr\" in hist.history:\n",
    "    hist.history[\"lr\"] = [float(num) for num in hist.history[\"lr\"]]\n",
    "  \n",
    "  scores = model.evaluate(X_test, y_test, verbose=1)\n",
    "  \n",
    "  print(\"loss: {0}, accuracy: {1}\".format(scores[0], scores[1]))\n",
    "  \n",
    "  predicted = model.predict(X_test).tolist()\n",
    "  \n",
    "  params = {\"conv_num\": conv_num,\n",
    "           \"fc_num\": fc_num,\n",
    "           \"epochs\": epochs,\n",
    "           \"dropout_fc\": dropout_fc,\n",
    "           \"dropout_conv\": dropout_conv,\n",
    "           \"batch_normalization\": batch_normalization,\n",
    "           \"image_augmentation\": image_augmentation,\n",
    "           \"width_shift_range\": width_shift_range,\n",
    "           \"height_shift_range\": height_shift_range,\n",
    "           \"shear_range\": shear_range,\n",
    "           \"zoom_range\": zoom_range,\n",
    "           \"horizontal_flip\": horizontal_flip,\n",
    "           \"rotation_range\": rotation_range,\n",
    "           \"brightness_range\": brightness_range,\n",
    "           \"zca_whitening\": zca_whitening,\n",
    "           \"hist\": hist.history,\n",
    "           \"conf\": hist.model.get_config(),\n",
    "           \"test_eval_scores\": scores,\n",
    "           \"predicted\": predicted}\n",
    "  \n",
    "  save_file(file_name, params)\n",
    "  \n",
    "  return (model, hist, scores)"
   ]
  },
  {
   "cell_type": "code",
   "execution_count": 0,
   "metadata": {
    "colab": {},
    "colab_type": "code",
    "id": "K2a4FY_EZB0a"
   },
   "outputs": [],
   "source": [
    "(m1, h1, s1) = test(file_name=\"model1.json\",\n",
    "        conv_num=3,\n",
    "        fc_num=2,\n",
    "        epochs=5)"
   ]
  },
  {
   "cell_type": "code",
   "execution_count": 0,
   "metadata": {
    "colab": {},
    "colab_type": "code",
    "id": "16uIqp8ApTdr"
   },
   "outputs": [],
   "source": [
    "(m2, h2, s2) = test(file_name=\"model2.json\",\n",
    "        conv_num=10,\n",
    "        fc_num=2,\n",
    "        epochs=5)"
   ]
  },
  {
   "cell_type": "code",
   "execution_count": 0,
   "metadata": {
    "colab": {},
    "colab_type": "code",
    "id": "ef0fbagOpaHq"
   },
   "outputs": [],
   "source": [
    "(m3, h3, s3) = test(file_name=\"model3.json\",\n",
    "        conv_num=30,\n",
    "        fc_num=2,\n",
    "        epochs=5)"
   ]
  },
  {
   "cell_type": "code",
   "execution_count": 0,
   "metadata": {
    "colab": {},
    "colab_type": "code",
    "id": "18kLE2nWpeyP"
   },
   "outputs": [],
   "source": [
    "(m4, h4, s4) = test(file_name=\"model4.json\",\n",
    "        conv_num=3,\n",
    "        pooling_iter_num=4,\n",
    "        fc_num=2,\n",
    "        epochs=5)"
   ]
  },
  {
   "cell_type": "code",
   "execution_count": 0,
   "metadata": {
    "colab": {},
    "colab_type": "code",
    "id": "au1Y4oV7rX7z"
   },
   "outputs": [],
   "source": [
    "(m5, h5, s5) = test(file_name=\"model5.json\",\n",
    "        conv_num=8,\n",
    "        pooling_iter_num=4,\n",
    "        fc_num=2,\n",
    "        epochs=5)"
   ]
  },
  {
   "cell_type": "code",
   "execution_count": 0,
   "metadata": {
    "colab": {},
    "colab_type": "code",
    "id": "2ml6GLk1rclD"
   },
   "outputs": [],
   "source": [
    "(m6, h6, s6) = test(file_name=\"model6.json\",\n",
    "        conv_num=3,\n",
    "        pooling_iter_num=4,\n",
    "        fc_num=2,\n",
    "        epochs=40)"
   ]
  },
  {
   "cell_type": "code",
   "execution_count": 0,
   "metadata": {
    "colab": {
     "base_uri": "https://localhost:8080/",
     "height": 35
    },
    "colab_type": "code",
    "executionInfo": {
     "elapsed": 17,
     "status": "ok",
     "timestamp": 1555324486317,
     "user": {
      "displayName": "Jadwiga Słowik",
      "photoUrl": "",
      "userId": "15762734195535627025"
     },
     "user_tz": -120
    },
    "id": "kWr_ze0O-CoE",
    "outputId": "ce69beb4-455b-426c-e37b-ee135b4a8784"
   },
   "outputs": [
    {
     "name": "stdout",
     "output_type": "stream",
     "text": [
      "ss\n"
     ]
    }
   ],
   "source": [
    "print(\"ss\")"
   ]
  },
  {
   "cell_type": "code",
   "execution_count": 0,
   "metadata": {
    "colab": {},
    "colab_type": "code",
    "id": "sntDzWh4OWXU"
   },
   "outputs": [],
   "source": [
    "m6.save(\"m6.h5\")"
   ]
  },
  {
   "cell_type": "code",
   "execution_count": 0,
   "metadata": {
    "colab": {},
    "colab_type": "code",
    "id": "1WmR9K_ie12e"
   },
   "outputs": [],
   "source": [
    "import pickle\n",
    "pickle.dump(m6, open(\"/content/gdrive/My Drive/model6\", \"wb\"))"
   ]
  },
  {
   "cell_type": "code",
   "execution_count": 0,
   "metadata": {
    "colab": {},
    "colab_type": "code",
    "id": "6HLD5b4oKndr"
   },
   "outputs": [],
   "source": [
    "(m7, h7, s7) = test(file_name=\"model7.json\",\n",
    "        conv_num=3,\n",
    "        pooling_iter_num=4,\n",
    "        fc_num=2,\n",
    "        epochs=50,\n",
    "        batch_normalization=True,\n",
    "        dropout_fc=0.2,\n",
    "        dropout_conv=0.2)"
   ]
  },
  {
   "cell_type": "code",
   "execution_count": 0,
   "metadata": {
    "colab": {},
    "colab_type": "code",
    "id": "MOcaOVxNUoT_"
   },
   "outputs": [],
   "source": [
    "import pickle\n",
    "pickle.dump(m7, open(\"/content/gdrive/My Drive/model7_pickl\", \"wb\"))"
   ]
  },
  {
   "cell_type": "markdown",
   "metadata": {
    "colab_type": "text",
    "id": "vk-t6RglRki1"
   },
   "source": [
    "# Do tego miejsca nie było ustawiane zmienne `learning rate`"
   ]
  },
  {
   "cell_type": "code",
   "execution_count": 0,
   "metadata": {
    "colab": {},
    "colab_type": "code",
    "id": "j6hkvvQkSNFn"
   },
   "outputs": [],
   "source": [
    "from keras.callbacks import LearningRateScheduler\n",
    "def get_learning_rate(epoch):\n",
    "  if epoch < 30:\n",
    "    return 0.01\n",
    "  elif epoch < 60:\n",
    "    return 0.0005\n",
    "  else:\n",
    "    return 0.0003"
   ]
  },
  {
   "cell_type": "code",
   "execution_count": 0,
   "metadata": {
    "colab": {
     "base_uri": "https://localhost:8080/",
     "height": 1536
    },
    "colab_type": "code",
    "executionInfo": {
     "elapsed": 8158563,
     "status": "ok",
     "timestamp": 1555359748071,
     "user": {
      "displayName": "Jadwiga Słowik",
      "photoUrl": "",
      "userId": "15762734195535627025"
     },
     "user_tz": -120
    },
    "id": "RS7x4JrzRckK",
    "outputId": "0f724377-7f4f-48e6-901f-52061148cc41"
   },
   "outputs": [
    {
     "name": "stdout",
     "output_type": "stream",
     "text": [
      "Train on 45000 samples, validate on 5000 samples\n",
      "Epoch 1/80\n",
      "45000/45000 [==============================] - 151s 3ms/step - loss: 2.0618 - acc: 0.2389 - val_loss: 2.0600 - val_acc: 0.2200\n",
      "Epoch 2/80\n",
      "45000/45000 [==============================] - 133s 3ms/step - loss: 1.7447 - acc: 0.3551 - val_loss: 2.1345 - val_acc: 0.2438\n",
      "Epoch 3/80\n",
      "45000/45000 [==============================] - 133s 3ms/step - loss: 1.6148 - acc: 0.4108 - val_loss: 2.1228 - val_acc: 0.2178\n",
      "Epoch 4/80\n",
      "45000/45000 [==============================] - 133s 3ms/step - loss: 1.5097 - acc: 0.4498 - val_loss: 1.9717 - val_acc: 0.2812\n",
      "Epoch 5/80\n",
      "45000/45000 [==============================] - 132s 3ms/step - loss: 1.4243 - acc: 0.4867 - val_loss: 1.7525 - val_acc: 0.3670\n",
      "Epoch 6/80\n",
      "45000/45000 [==============================] - 132s 3ms/step - loss: 1.3385 - acc: 0.5172 - val_loss: 1.7199 - val_acc: 0.3868\n",
      "Epoch 7/80\n",
      "45000/45000 [==============================] - 132s 3ms/step - loss: 1.2560 - acc: 0.5512 - val_loss: 1.6412 - val_acc: 0.4276\n",
      "Epoch 8/80\n",
      "45000/45000 [==============================] - 132s 3ms/step - loss: 1.1838 - acc: 0.5795 - val_loss: 1.3731 - val_acc: 0.5234\n",
      "Epoch 9/80\n",
      "45000/45000 [==============================] - 132s 3ms/step - loss: 1.1170 - acc: 0.6051 - val_loss: 1.3369 - val_acc: 0.5338\n",
      "Epoch 10/80\n",
      "45000/45000 [==============================] - 132s 3ms/step - loss: 1.0586 - acc: 0.6237 - val_loss: 1.2995 - val_acc: 0.5390\n",
      "Epoch 11/80\n",
      "45000/45000 [==============================] - 132s 3ms/step - loss: 1.0109 - acc: 0.6426 - val_loss: 1.2674 - val_acc: 0.5546\n",
      "Epoch 12/80\n",
      "45000/45000 [==============================] - 132s 3ms/step - loss: 0.9678 - acc: 0.6601 - val_loss: 1.4432 - val_acc: 0.4882\n",
      "Epoch 13/80\n",
      "45000/45000 [==============================] - 132s 3ms/step - loss: 0.9273 - acc: 0.6726 - val_loss: 1.3353 - val_acc: 0.5510\n",
      "Epoch 14/80\n",
      "45000/45000 [==============================] - 132s 3ms/step - loss: 0.8924 - acc: 0.6888 - val_loss: 1.0608 - val_acc: 0.6292\n",
      "Epoch 15/80\n",
      "45000/45000 [==============================] - 132s 3ms/step - loss: 0.8561 - acc: 0.7023 - val_loss: 0.9977 - val_acc: 0.6512\n",
      "Epoch 16/80\n",
      "45000/45000 [==============================] - 132s 3ms/step - loss: 0.8275 - acc: 0.7125 - val_loss: 1.0474 - val_acc: 0.6442\n",
      "Epoch 17/80\n",
      "45000/45000 [==============================] - 132s 3ms/step - loss: 0.8017 - acc: 0.7240 - val_loss: 1.1011 - val_acc: 0.6202\n",
      "Epoch 18/80\n",
      "45000/45000 [==============================] - 132s 3ms/step - loss: 0.7748 - acc: 0.7326 - val_loss: 0.9061 - val_acc: 0.6912\n",
      "Epoch 19/80\n",
      "45000/45000 [==============================] - 132s 3ms/step - loss: 0.7553 - acc: 0.7398 - val_loss: 0.8323 - val_acc: 0.7104\n",
      "Epoch 20/80\n",
      "45000/45000 [==============================] - 136s 3ms/step - loss: 0.7290 - acc: 0.7495 - val_loss: 1.0481 - val_acc: 0.6448\n",
      "Epoch 21/80\n",
      "45000/45000 [==============================] - 135s 3ms/step - loss: 0.7096 - acc: 0.7587 - val_loss: 0.7726 - val_acc: 0.7400\n",
      "Epoch 22/80\n",
      "45000/45000 [==============================] - 135s 3ms/step - loss: 0.6972 - acc: 0.7617 - val_loss: 0.8932 - val_acc: 0.7094\n",
      "Epoch 23/80\n",
      "45000/45000 [==============================] - 135s 3ms/step - loss: 0.6762 - acc: 0.7689 - val_loss: 0.7387 - val_acc: 0.7396\n",
      "Epoch 24/80\n",
      "45000/45000 [==============================] - 134s 3ms/step - loss: 0.6572 - acc: 0.7778 - val_loss: 0.8830 - val_acc: 0.6944\n",
      "Epoch 25/80\n",
      "45000/45000 [==============================] - 135s 3ms/step - loss: 0.6427 - acc: 0.7819 - val_loss: 0.8023 - val_acc: 0.7236\n",
      "Epoch 26/80\n",
      "45000/45000 [==============================] - 135s 3ms/step - loss: 0.6287 - acc: 0.7854 - val_loss: 0.6863 - val_acc: 0.7644\n",
      "Epoch 27/80\n",
      "45000/45000 [==============================] - 133s 3ms/step - loss: 0.6143 - acc: 0.7920 - val_loss: 0.7152 - val_acc: 0.7590\n",
      "Epoch 28/80\n",
      "45000/45000 [==============================] - 131s 3ms/step - loss: 0.5968 - acc: 0.7972 - val_loss: 0.8004 - val_acc: 0.7308\n",
      "Epoch 29/80\n",
      "45000/45000 [==============================] - 132s 3ms/step - loss: 0.5900 - acc: 0.8011 - val_loss: 0.6459 - val_acc: 0.7824\n",
      "Epoch 30/80\n",
      "45000/45000 [==============================] - 133s 3ms/step - loss: 0.5731 - acc: 0.8079 - val_loss: 0.7524 - val_acc: 0.7442\n",
      "Epoch 31/80\n",
      "45000/45000 [==============================] - 134s 3ms/step - loss: 0.5224 - acc: 0.8228 - val_loss: 0.6594 - val_acc: 0.7766\n",
      "Epoch 32/80\n",
      "45000/45000 [==============================] - 135s 3ms/step - loss: 0.5042 - acc: 0.8294 - val_loss: 0.6485 - val_acc: 0.7806\n",
      "Epoch 33/80\n",
      "45000/45000 [==============================] - 134s 3ms/step - loss: 0.4968 - acc: 0.8307 - val_loss: 0.6507 - val_acc: 0.7754\n",
      "Epoch 34/80\n",
      "45000/45000 [==============================] - 134s 3ms/step - loss: 0.4934 - acc: 0.8328 - val_loss: 0.6388 - val_acc: 0.7812\n",
      "Epoch 35/80\n",
      "45000/45000 [==============================] - 134s 3ms/step - loss: 0.4871 - acc: 0.8329 - val_loss: 0.6222 - val_acc: 0.7892\n",
      "Epoch 36/80\n",
      "45000/45000 [==============================] - 134s 3ms/step - loss: 0.4895 - acc: 0.8352 - val_loss: 0.6204 - val_acc: 0.7870\n",
      "Epoch 37/80\n",
      "45000/45000 [==============================] - 134s 3ms/step - loss: 0.4841 - acc: 0.8358 - val_loss: 0.6336 - val_acc: 0.7830\n",
      "Epoch 38/80\n",
      "45000/45000 [==============================] - 134s 3ms/step - loss: 0.4792 - acc: 0.8396 - val_loss: 0.6052 - val_acc: 0.7920\n",
      "Epoch 39/80\n",
      "45000/45000 [==============================] - 134s 3ms/step - loss: 0.4802 - acc: 0.8381 - val_loss: 0.6179 - val_acc: 0.7884\n",
      "Epoch 40/80\n",
      "45000/45000 [==============================] - 134s 3ms/step - loss: 0.4806 - acc: 0.8386 - val_loss: 0.6274 - val_acc: 0.7852\n",
      "Epoch 41/80\n",
      "45000/45000 [==============================] - 135s 3ms/step - loss: 0.4769 - acc: 0.8382 - val_loss: 0.6321 - val_acc: 0.7812\n",
      "Epoch 42/80\n",
      "30816/45000 [===================>..........] - ETA: 41s - loss: 0.4704 - acc: 0.8386Buffered data was truncated after reaching the output size limit."
     ]
    }
   ],
   "source": [
    "(m8, h8, s8) = test(file_name=\"model8.json\",\n",
    "        conv_num=3,\n",
    "        pooling_iter_num=4,\n",
    "        fc_num=2,\n",
    "        epochs=80,\n",
    "        batch_normalization=True,\n",
    "        dropout_fc=0.2,\n",
    "        dropout_conv=0.2,\n",
    "        callbacks=[LearningRateScheduler(get_learning_rate)])"
   ]
  },
  {
   "cell_type": "code",
   "execution_count": 0,
   "metadata": {
    "colab": {
     "base_uri": "https://localhost:8080/",
     "height": 106
    },
    "colab_type": "code",
    "executionInfo": {
     "elapsed": 961,
     "status": "ok",
     "timestamp": 1555348002735,
     "user": {
      "displayName": "Jadwiga Słowik",
      "photoUrl": "",
      "userId": "15762734195535627025"
     },
     "user_tz": -120
    },
    "id": "-bSbhIjQ4nRx",
    "outputId": "1517daad-d67c-4d1b-9e2d-a1f04e022e6e"
   },
   "outputs": [
    {
     "data": {
      "text/plain": [
       "{'acc': [0.23262222222222223],\n",
       " 'loss': [2.094926867421468],\n",
       " 'lr': [0.01],\n",
       " 'val_acc': [0.133],\n",
       " 'val_loss': [2.599663773727417]}"
      ]
     },
     "execution_count": 50,
     "metadata": {
      "tags": []
     },
     "output_type": "execute_result"
    }
   ],
   "source": [
    "h8.history"
   ]
  },
  {
   "cell_type": "code",
   "execution_count": 0,
   "metadata": {
    "colab": {
     "base_uri": "https://localhost:8080/",
     "height": 35
    },
    "colab_type": "code",
    "executionInfo": {
     "elapsed": 1193,
     "status": "ok",
     "timestamp": 1555348029661,
     "user": {
      "displayName": "Jadwiga Słowik",
      "photoUrl": "",
      "userId": "15762734195535627025"
     },
     "user_tz": -120
    },
    "id": "LqwXiMLE9xFl",
    "outputId": "ae2b7ce9-35a6-4e2d-fc79-9f8fb9267c5e"
   },
   "outputs": [
    {
     "data": {
      "text/plain": [
       "numpy.float32"
      ]
     },
     "execution_count": 51,
     "metadata": {
      "tags": []
     },
     "output_type": "execute_result"
    }
   ],
   "source": [
    "type(h8.history[\"lr\"][0])"
   ]
  },
  {
   "cell_type": "code",
   "execution_count": 0,
   "metadata": {
    "colab": {},
    "colab_type": "code",
    "id": "zx1U0fmk93mb"
   },
   "outputs": [],
   "source": [
    "import numpy\n",
    "type([numpy.float64(x) for x in h8.history[\"lr\"]][0])\n",
    "json.dumps([numpy.float64(x) for x in h8.history[\"lr\"]])\n"
   ]
  },
  {
   "cell_type": "code",
   "execution_count": 0,
   "metadata": {
    "colab": {},
    "colab_type": "code",
    "id": "XwVLbdkY99BG"
   },
   "outputs": [],
   "source": []
  },
  {
   "cell_type": "code",
   "execution_count": 0,
   "metadata": {
    "colab": {},
    "colab_type": "code",
    "id": "fVu6e1CCRhGS"
   },
   "outputs": [],
   "source": [
    "pickle.dump(m8, open(\"/content/gdrive/My Drive/model8_pickl\", \"wb\"))\n"
   ]
  },
  {
   "cell_type": "code",
   "execution_count": 0,
   "metadata": {
    "colab": {},
    "colab_type": "code",
    "id": "1fGzc0PR0HBD"
   },
   "outputs": [],
   "source": [
    "def read_pickle_model(file_name):\n",
    "  with open(\"/content/gdrive/My Drive/{0}\".format(file_name)) as f:\n",
    "    return pickle.load(f)\n",
    "        "
   ]
  },
  {
   "cell_type": "markdown",
   "metadata": {
    "colab_type": "text",
    "id": "YJKPYPJ7W0ch"
   },
   "source": [
    "# Próba douczenia modelu przy pomocy `data augmentation`"
   ]
  },
  {
   "cell_type": "code",
   "execution_count": 0,
   "metadata": {
    "colab": {},
    "colab_type": "code",
    "id": "GJZGKU5OzkQn"
   },
   "outputs": [],
   "source": [
    "h7.history"
   ]
  },
  {
   "cell_type": "code",
   "execution_count": 0,
   "metadata": {
    "colab": {},
    "colab_type": "code",
    "id": "bZIQ9K4dADrR"
   },
   "outputs": [],
   "source": [
    "datagen = ImageDataGenerator(\n",
    "    rotation_range=30,\n",
    "    width_shift_range=0.1,\n",
    "    height_shift_range=0.1,\n",
    "    horizontal_flip=True,\n",
    "    vertical_flip=True)\n",
    "datagen.fit(X_train)"
   ]
  },
  {
   "cell_type": "code",
   "execution_count": 0,
   "metadata": {
    "colab": {
     "base_uri": "https://localhost:8080/",
     "height": 2697
    },
    "colab_type": "code",
    "id": "PfytmyeQHEK0",
    "outputId": "126cdc3e-fbf1-46fb-856d-8ef1c3106134"
   },
   "outputs": [
    {
     "name": "stdout",
     "output_type": "stream",
     "text": [
      "Epoch 1/100\n",
      "1406/1406 [==============================] - 138s 98ms/step - loss: 1.1755 - acc: 0.5913 - val_loss: 0.6852 - val_acc: 0.7710\n",
      "Epoch 2/100\n",
      "1406/1406 [==============================] - 137s 98ms/step - loss: 1.1148 - acc: 0.6168 - val_loss: 0.7416 - val_acc: 0.7486\n",
      "Epoch 3/100\n",
      "1406/1406 [==============================] - 137s 98ms/step - loss: 1.0796 - acc: 0.6276 - val_loss: 0.7057 - val_acc: 0.7664\n",
      "Epoch 4/100\n",
      "1406/1406 [==============================] - 137s 98ms/step - loss: 1.0543 - acc: 0.6397 - val_loss: 0.6937 - val_acc: 0.7640\n",
      "Epoch 5/100\n",
      "1406/1406 [==============================] - 137s 98ms/step - loss: 1.0289 - acc: 0.6462 - val_loss: 0.7083 - val_acc: 0.7618\n",
      "Epoch 6/100\n",
      "1406/1406 [==============================] - 138s 98ms/step - loss: 1.0110 - acc: 0.6544 - val_loss: 0.7548 - val_acc: 0.7538\n",
      "Epoch 7/100\n",
      "1406/1406 [==============================] - 137s 98ms/step - loss: 0.9938 - acc: 0.6597 - val_loss: 0.7166 - val_acc: 0.7656\n",
      "Epoch 8/100\n",
      "1406/1406 [==============================] - 137s 98ms/step - loss: 0.9803 - acc: 0.6626 - val_loss: 0.7168 - val_acc: 0.7616\n",
      "Epoch 9/100\n",
      "1406/1406 [==============================] - 138s 98ms/step - loss: 0.9681 - acc: 0.6690 - val_loss: 0.7822 - val_acc: 0.7344\n",
      "Epoch 10/100\n",
      "1406/1406 [==============================] - 137s 98ms/step - loss: 0.9660 - acc: 0.6709 - val_loss: 0.7107 - val_acc: 0.7680\n",
      "Epoch 11/100\n",
      "1406/1406 [==============================] - 137s 98ms/step - loss: 0.9459 - acc: 0.6762 - val_loss: 0.7230 - val_acc: 0.7626\n",
      "Epoch 12/100\n",
      "1406/1406 [==============================] - 137s 98ms/step - loss: 0.9386 - acc: 0.6795 - val_loss: 0.7034 - val_acc: 0.7648\n",
      "Epoch 13/100\n",
      "1406/1406 [==============================] - 138s 98ms/step - loss: 0.9312 - acc: 0.6795 - val_loss: 0.7596 - val_acc: 0.7406\n",
      "Epoch 14/100\n",
      "1406/1406 [==============================] - 138s 98ms/step - loss: 0.9191 - acc: 0.6865 - val_loss: 0.7599 - val_acc: 0.7544\n",
      "Epoch 15/100\n",
      "1406/1406 [==============================] - 138s 98ms/step - loss: 0.9169 - acc: 0.6861 - val_loss: 0.7888 - val_acc: 0.7372\n",
      "Epoch 16/100\n",
      "1406/1406 [==============================] - 137s 98ms/step - loss: 0.9048 - acc: 0.6925 - val_loss: 0.7860 - val_acc: 0.7378\n",
      "Epoch 17/100\n",
      "1406/1406 [==============================] - 138s 98ms/step - loss: 0.8910 - acc: 0.6950 - val_loss: 0.7245 - val_acc: 0.7630\n",
      "Epoch 18/100\n",
      "1406/1406 [==============================] - 137s 98ms/step - loss: 0.8938 - acc: 0.6961 - val_loss: 0.7663 - val_acc: 0.7584\n",
      "Epoch 19/100\n",
      "1406/1406 [==============================] - 137s 97ms/step - loss: 0.8767 - acc: 0.7000 - val_loss: 0.8446 - val_acc: 0.7286\n",
      "Epoch 20/100\n",
      "1406/1406 [==============================] - 138s 98ms/step - loss: 0.8688 - acc: 0.7053 - val_loss: 0.7420 - val_acc: 0.7574\n",
      "Epoch 21/100\n",
      "1406/1406 [==============================] - 137s 98ms/step - loss: 0.8709 - acc: 0.7053 - val_loss: 0.6983 - val_acc: 0.7722\n",
      "Epoch 22/100\n",
      "1406/1406 [==============================] - 137s 97ms/step - loss: 0.8538 - acc: 0.7063 - val_loss: 0.6841 - val_acc: 0.7704\n",
      "Epoch 23/100\n",
      "1406/1406 [==============================] - 137s 98ms/step - loss: 0.8575 - acc: 0.7065 - val_loss: 0.6850 - val_acc: 0.7684\n",
      "Epoch 24/100\n",
      "1406/1406 [==============================] - 138s 98ms/step - loss: 0.8537 - acc: 0.7081 - val_loss: 0.7498 - val_acc: 0.7482\n",
      "Epoch 25/100\n",
      "1406/1406 [==============================] - 138s 98ms/step - loss: 0.8375 - acc: 0.7148 - val_loss: 0.6270 - val_acc: 0.7858\n",
      "Epoch 26/100\n",
      "1406/1406 [==============================] - 138s 98ms/step - loss: 0.8366 - acc: 0.7138 - val_loss: 0.6633 - val_acc: 0.7762\n",
      "Epoch 27/100\n",
      "1406/1406 [==============================] - 138s 98ms/step - loss: 0.8313 - acc: 0.7147 - val_loss: 0.7142 - val_acc: 0.7586\n",
      "Epoch 28/100\n",
      "1406/1406 [==============================] - 138s 98ms/step - loss: 0.8186 - acc: 0.7193 - val_loss: 0.6299 - val_acc: 0.7926\n",
      "Epoch 29/100\n",
      "1406/1406 [==============================] - 138s 98ms/step - loss: 0.8296 - acc: 0.7163 - val_loss: 0.7531 - val_acc: 0.7548\n",
      "Epoch 30/100\n",
      "1406/1406 [==============================] - 138s 98ms/step - loss: 0.8162 - acc: 0.7222 - val_loss: 0.6505 - val_acc: 0.7818\n",
      "Epoch 31/100\n",
      "1406/1406 [==============================] - 138s 98ms/step - loss: 0.7945 - acc: 0.7276 - val_loss: 0.6579 - val_acc: 0.7830\n",
      "Epoch 32/100\n",
      "1406/1406 [==============================] - 137s 98ms/step - loss: 0.7802 - acc: 0.7349 - val_loss: 0.6354 - val_acc: 0.7900\n",
      "Epoch 33/100\n",
      "1406/1406 [==============================] - 138s 98ms/step - loss: 0.7695 - acc: 0.7365 - val_loss: 0.6323 - val_acc: 0.7886\n",
      "Epoch 34/100\n",
      "1406/1406 [==============================] - 138s 98ms/step - loss: 0.7725 - acc: 0.7357 - val_loss: 0.6308 - val_acc: 0.7896\n",
      "Epoch 35/100\n",
      "1406/1406 [==============================] - 138s 98ms/step - loss: 0.7697 - acc: 0.7384 - val_loss: 0.6273 - val_acc: 0.7896\n",
      "Epoch 36/100\n",
      "1406/1406 [==============================] - 138s 98ms/step - loss: 0.7627 - acc: 0.7418 - val_loss: 0.6247 - val_acc: 0.7920\n",
      "Epoch 37/100\n",
      "1406/1406 [==============================] - 138s 98ms/step - loss: 0.7619 - acc: 0.7426 - val_loss: 0.6136 - val_acc: 0.7966\n",
      "Epoch 38/100\n",
      "1406/1406 [==============================] - 137s 98ms/step - loss: 0.7617 - acc: 0.7398 - val_loss: 0.6227 - val_acc: 0.7916\n",
      "Epoch 39/100\n",
      "1406/1406 [==============================] - 138s 98ms/step - loss: 0.7622 - acc: 0.7397 - val_loss: 0.6101 - val_acc: 0.7966\n",
      "Epoch 40/100\n",
      "1406/1406 [==============================] - 138s 98ms/step - loss: 0.7549 - acc: 0.7409 - val_loss: 0.6140 - val_acc: 0.7942\n",
      "Epoch 41/100\n",
      "1406/1406 [==============================] - 138s 98ms/step - loss: 0.7528 - acc: 0.7431 - val_loss: 0.6136 - val_acc: 0.7952\n",
      "Epoch 42/100\n",
      "1406/1406 [==============================] - 139s 99ms/step - loss: 0.7538 - acc: 0.7416 - val_loss: 0.6210 - val_acc: 0.7940\n",
      "Epoch 43/100\n",
      "1406/1406 [==============================] - 138s 98ms/step - loss: 0.7551 - acc: 0.7426 - val_loss: 0.6279 - val_acc: 0.7894\n",
      "Epoch 44/100\n",
      "1406/1406 [==============================] - 138s 98ms/step - loss: 0.7562 - acc: 0.7434 - val_loss: 0.6171 - val_acc: 0.7952\n",
      "Epoch 45/100\n",
      "1406/1406 [==============================] - 137s 98ms/step - loss: 0.7515 - acc: 0.7440 - val_loss: 0.6085 - val_acc: 0.7954\n",
      "Epoch 46/100\n",
      "1406/1406 [==============================] - 137s 98ms/step - loss: 0.7486 - acc: 0.7438 - val_loss: 0.6056 - val_acc: 0.7960\n",
      "Epoch 47/100\n",
      "1406/1406 [==============================] - 138s 98ms/step - loss: 0.7490 - acc: 0.7463 - val_loss: 0.6260 - val_acc: 0.7912\n",
      "Epoch 48/100\n",
      "1406/1406 [==============================] - 137s 98ms/step - loss: 0.7512 - acc: 0.7436 - val_loss: 0.6261 - val_acc: 0.7922\n",
      "Epoch 49/100\n",
      "1406/1406 [==============================] - 137s 98ms/step - loss: 0.7561 - acc: 0.7406 - val_loss: 0.6144 - val_acc: 0.7960\n",
      "Epoch 50/100\n",
      "1406/1406 [==============================] - 138s 98ms/step - loss: 0.7458 - acc: 0.7444 - val_loss: 0.6111 - val_acc: 0.7978\n",
      "Epoch 51/100\n",
      "1406/1406 [==============================] - 138s 98ms/step - loss: 0.7390 - acc: 0.7478 - val_loss: 0.6114 - val_acc: 0.7926\n",
      "Epoch 52/100\n",
      "1406/1406 [==============================] - 137s 98ms/step - loss: 0.7424 - acc: 0.7483 - val_loss: 0.6093 - val_acc: 0.7956\n",
      "Epoch 53/100\n",
      "1406/1406 [==============================] - 137s 98ms/step - loss: 0.7484 - acc: 0.7466 - val_loss: 0.5944 - val_acc: 0.8028\n",
      "Epoch 54/100\n",
      "1406/1406 [==============================] - 138s 98ms/step - loss: 0.7425 - acc: 0.7474 - val_loss: 0.6102 - val_acc: 0.7966\n",
      "Epoch 55/100\n",
      "1406/1406 [==============================] - 138s 98ms/step - loss: 0.7474 - acc: 0.7424 - val_loss: 0.6022 - val_acc: 0.7980\n",
      "Epoch 56/100\n",
      "1406/1406 [==============================] - 137s 98ms/step - loss: 0.7470 - acc: 0.7468 - val_loss: 0.6057 - val_acc: 0.7964\n",
      "Epoch 57/100\n",
      "1406/1406 [==============================] - 137s 98ms/step - loss: 0.7364 - acc: 0.7488 - val_loss: 0.5993 - val_acc: 0.7984\n",
      "Epoch 58/100\n",
      "1406/1406 [==============================] - 137s 98ms/step - loss: 0.7415 - acc: 0.7475 - val_loss: 0.6037 - val_acc: 0.7952\n",
      "Epoch 59/100\n",
      "1406/1406 [==============================] - 137s 98ms/step - loss: 0.7397 - acc: 0.7484 - val_loss: 0.6142 - val_acc: 0.7956\n",
      "Epoch 60/100\n",
      "1406/1406 [==============================] - 137s 98ms/step - loss: 0.7427 - acc: 0.7468 - val_loss: 0.5948 - val_acc: 0.7998\n",
      "Epoch 61/100\n",
      "1406/1406 [==============================] - 137s 98ms/step - loss: 0.7408 - acc: 0.7476 - val_loss: 0.5984 - val_acc: 0.7986\n",
      "Epoch 62/100\n",
      "1406/1406 [==============================] - 138s 98ms/step - loss: 0.7389 - acc: 0.7479 - val_loss: 0.5974 - val_acc: 0.7986\n",
      "Epoch 63/100\n",
      "1406/1406 [==============================] - 138s 98ms/step - loss: 0.7375 - acc: 0.7493 - val_loss: 0.6067 - val_acc: 0.7946\n",
      "Epoch 64/100\n",
      "1406/1406 [==============================] - 138s 98ms/step - loss: 0.7332 - acc: 0.7489 - val_loss: 0.6034 - val_acc: 0.7956\n",
      "Epoch 65/100\n",
      "1406/1406 [==============================] - 138s 98ms/step - loss: 0.7396 - acc: 0.7477 - val_loss: 0.6006 - val_acc: 0.7968\n",
      "Epoch 66/100\n",
      "1406/1406 [==============================] - 138s 98ms/step - loss: 0.7400 - acc: 0.7483 - val_loss: 0.5895 - val_acc: 0.8018\n",
      "Epoch 67/100\n",
      "1406/1406 [==============================] - 138s 98ms/step - loss: 0.7389 - acc: 0.7487 - val_loss: 0.5924 - val_acc: 0.8016\n",
      "Epoch 68/100\n",
      "1406/1406 [==============================] - 138s 98ms/step - loss: 0.7362 - acc: 0.7493 - val_loss: 0.5962 - val_acc: 0.7996\n",
      "Epoch 69/100\n",
      "1406/1406 [==============================] - 138s 98ms/step - loss: 0.7365 - acc: 0.7502 - val_loss: 0.5951 - val_acc: 0.8002\n",
      "Epoch 70/100\n",
      "1406/1406 [==============================] - 138s 98ms/step - loss: 0.7316 - acc: 0.7495 - val_loss: 0.5909 - val_acc: 0.7982\n",
      "Epoch 71/100\n",
      "1406/1406 [==============================] - 138s 98ms/step - loss: 0.7333 - acc: 0.7506 - val_loss: 0.5979 - val_acc: 0.8000\n",
      "Epoch 72/100\n",
      "1406/1406 [==============================] - 138s 98ms/step - loss: 0.7357 - acc: 0.7492 - val_loss: 0.6004 - val_acc: 0.7970\n",
      "Epoch 73/100\n",
      "1406/1406 [==============================] - 138s 98ms/step - loss: 0.7421 - acc: 0.7452 - val_loss: 0.6021 - val_acc: 0.7966\n",
      "Epoch 74/100\n",
      "1406/1406 [==============================] - 138s 98ms/step - loss: 0.7355 - acc: 0.7489 - val_loss: 0.5969 - val_acc: 0.7998\n",
      "Epoch 75/100\n",
      " 100/1406 [=>............................] - ETA: 2:03 - loss: 0.7190 - acc: 0.7556"
     ]
    }
   ],
   "source": [
    "batch_size=32\n",
    "hist7_augm = m7.fit_generator(\n",
    "  datagen.flow(X_train, y_train, batch_size=batch_size),\n",
    "  steps_per_epoch=(X_train.shape[0] // batch_size),\n",
    "  callbacks=[LearningRateScheduler(get_learning_rate)],\n",
    "  epochs=100,\n",
    "  validation_data=(X_val, y_val))\n",
    "\n",
    "hist7_augm.history[\"lr\"] = [float(num) for num in hist7_augm.history[\"lr\"]]\n",
    "\n",
    "scores = m7.evaluate(X_test, y_test, verbose=1)\n",
    "  \n",
    "print(\"loss: {0}, accuracy: {1}\".format(scores[0], scores[1]))\n",
    " \n",
    "predicted = m7.predict(X_test).tolist()\n",
    "\n",
    "params = {\"test_eval_scores\": scores,\n",
    "          \"predicted\": predicted,\n",
    "          \"hist\": hist7_augm.history,\n",
    "          \"config\": hist7_augm.model.get_config(),\n",
    "          \"predicted\": predicted,\n",
    "          \"epochs\": 100,\n",
    "         \"rotation_range\": 30,\n",
    "         \"width_shift_range\":0.1,\n",
    "         \"height_shift_range\":0.1,\n",
    "         \"horizontal_flip\":True,\n",
    "         \"vertical_flip\":True,\n",
    "         \"lr_scheduler\": True}\n",
    "\n",
    "save_file(\"model7_with_img_augm.json\", params)\n",
    "pickle.dump(m7, open(\"/content/gdrive/My Drive/model7_augm_pickl\", \"wb\"))"
   ]
  }
 ],
 "metadata": {
  "accelerator": "GPU",
  "colab": {
   "collapsed_sections": [],
   "name": "report2.ipynb",
   "provenance": [],
   "version": "0.3.2"
  },
  "kernelspec": {
   "display_name": "Python 3",
   "language": "python",
   "name": "python3"
  },
  "language_info": {
   "codemirror_mode": {
    "name": "ipython",
    "version": 3
   },
   "file_extension": ".py",
   "mimetype": "text/x-python",
   "name": "python",
   "nbconvert_exporter": "python",
   "pygments_lexer": "ipython3",
   "version": "3.5.2"
  }
 },
 "nbformat": 4,
 "nbformat_minor": 1
}
